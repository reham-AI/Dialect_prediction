{
  "nbformat": 4,
  "nbformat_minor": 0,
  "metadata": {
    "colab": {
      "name": "SVM.ipynb",
      "provenance": []
    },
    "kernelspec": {
      "name": "python3",
      "display_name": "Python 3"
    },
    "language_info": {
      "name": "python"
    }
  },
  "cells": [
    {
      "cell_type": "code",
      "execution_count": null,
      "metadata": {
        "id": "y808H3dOf1w-"
      },
      "outputs": [],
      "source": [
        "\"\"\"\n",
        "Created on Sat Mar 12 20:30:45 2022\n",
        "\n",
        "@author: Reham\n",
        "\"\"\"\n",
        "import re\n",
        "import string\n",
        "import pandas as pd\n",
        "import numpy as np\n",
        "import nltk\n",
        "from nltk.tokenize import word_tokenize\n",
        "from nltk import pos_tag\n",
        "from nltk.corpus import stopwords\n",
        "from nltk.stem import WordNetLemmatizer\n",
        "from sklearn.preprocessing import LabelEncoder\n",
        "from collections import defaultdict\n",
        "from nltk.corpus import wordnet as wn\n",
        "from sklearn.feature_extraction.text import TfidfVectorizer\n",
        "from sklearn import model_selection, naive_bayes, svm\n",
        "from sklearn.metrics import accuracy_score\n",
        "#my preprocessing code\n",
        "from data_preprocessing import clean_data"
      ]
    },
    {
      "cell_type": "code",
      "source": [
        "np.random.seed(500)\n",
        "path = \"path to csv file\"\n",
        "df = pd.read_csv(path)\n",
        "\n",
        "# preprocessing \n",
        "df['data']= df['data'].apply(lambda x: clean_data(x))\n",
        "\n",
        "# convert dialect labels from (categorical) into (numerical)\n",
        "df['dialect'] = df['dialect'].astype('category')\n",
        "df['dialect'] = df['dialect'].cat.codes\n"
      ],
      "metadata": {
        "id": "eruKsnz2geZe"
      },
      "execution_count": null,
      "outputs": []
    },
    {
      "cell_type": "code",
      "source": [
        "Train_X, Test_X, Train_Y, Test_Y = model_selection.train_test_split(df['data'],df['dialect'],test_size=0.3)"
      ],
      "metadata": {
        "id": "r60O4L3Yg0g_"
      },
      "execution_count": null,
      "outputs": []
    },
    {
      "cell_type": "code",
      "source": [
        "Tfidf_vect = TfidfVectorizer()\n",
        "Tfidf_vect.fit(df['data'])\n",
        "Train_X_Tfidf = Tfidf_vect.transform(Train_X)\n",
        "Test_X_Tfidf = Tfidf_vect.transform(Test_X)\n",
        "\n",
        "print(Train_X_Tfidf)"
      ],
      "metadata": {
        "id": "FjvbvXzAg4K0"
      },
      "execution_count": null,
      "outputs": []
    },
    {
      "cell_type": "code",
      "source": [
        "# Classifier - Algorithm - SVM\n",
        "# fit the training dataset on the classifier\n",
        "SVM = svm.SVC(C=1.0, kernel='linear', degree=3, gamma='auto')\n",
        "SVM.fit(Train_X_Tfidf,Train_Y)"
      ],
      "metadata": {
        "id": "2gV361i_g6mv"
      },
      "execution_count": null,
      "outputs": []
    },
    {
      "cell_type": "code",
      "source": [
        "# predict the labels on validation dataset\n",
        "predictions_SVM = SVM.predict(Test_X_Tfidf)\n",
        "# Use accuracy_score function to get the accuracy\n",
        "print(\"SVM Accuracy Score -> \",accuracy_score(predictions_SVM, Test_Y)*100)"
      ],
      "metadata": {
        "id": "TPGWUcQXg-8U"
      },
      "execution_count": null,
      "outputs": []
    },
    {
      "cell_type": "code",
      "source": [
        "# save the model to disk\n",
        "import pickle\n",
        "filename = '/content/drive/MyDrive/AIM/finalized_model.sav'\n",
        "pickle.dump(SVM, open(filename, 'wb'))"
      ],
      "metadata": {
        "id": "MSoXcEV6hBwi"
      },
      "execution_count": null,
      "outputs": []
    }
  ]
}